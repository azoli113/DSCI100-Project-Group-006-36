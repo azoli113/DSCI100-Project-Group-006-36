{
 "cells": [
  {
   "cell_type": "markdown",
   "id": "22ceb9bc-34a7-4e75-a2c1-8262510ac38f",
   "metadata": {},
   "source": [
    "# DSCI 100: Final Project Title\n"
   ]
  },
  {
   "cell_type": "markdown",
   "id": "d6bb8f93-027b-43ee-82a3-a907ff09624a",
   "metadata": {},
   "source": [
    "By: Arshia, James, Lily, and Raina"
   ]
  },
  {
   "cell_type": "code",
   "execution_count": null,
   "id": "0c82e291-4b50-4650-8160-d21babbee29e",
   "metadata": {},
   "outputs": [],
   "source": [
    "library(repr)\n",
    "library(tidyverse)\n",
    "library(tidymodels)\n",
    "options(repr.matrix.max.rows = 10)"
   ]
  },
  {
   "cell_type": "markdown",
   "id": "76c18d01-077d-4557-b2b7-abe1fe8bd416",
   "metadata": {},
   "source": [
    "# Introduction"
   ]
  },
  {
   "cell_type": "markdown",
   "id": "e3d6be7e-f57d-4b69-9125-959852793bf9",
   "metadata": {},
   "source": [
    "provide some relevant background information on the topic so that someone unfamiliar with it will be prepared to understand the rest of your report\n"
   ]
  },
  {
   "cell_type": "markdown",
   "id": "4626d96c-6c1f-4d5e-9cc4-78210d52ff9d",
   "metadata": {},
   "source": [
    "# Methods and Results"
   ]
  },
  {
   "cell_type": "markdown",
   "id": "2df93dd5-2dff-496f-ae79-0c2205e0845c",
   "metadata": {},
   "source": [
    "### Load in data"
   ]
  },
  {
   "cell_type": "code",
   "execution_count": null,
   "id": "bd36e6af-8fb9-483a-8812-ebba3b1ef72c",
   "metadata": {},
   "outputs": [],
   "source": [
    "players_data<-read_csv(\"https://raw.githubusercontent.com/lilypurdy/toy_ds_project/refs/heads/main/players%20(2).csv\")\n",
    "head(players_data, 5)"
   ]
  },
  {
   "cell_type": "markdown",
   "id": "723175b9-322a-45ff-aa6c-2f233a3da2e0",
   "metadata": {},
   "source": [
    "### Wrangle and Clean Data"
   ]
  },
  {
   "cell_type": "code",
   "execution_count": null,
   "id": "90870762-3a26-47ac-8d39-cef2166a0246",
   "metadata": {},
   "outputs": [],
   "source": [
    "players <- players_data |> select(-hashedEmail, -subscribe, -name, -gender)\n",
    "head(players, 5)"
   ]
  },
  {
   "cell_type": "markdown",
   "id": "57e53227-05ca-4d74-83ab-13f96d8c4750",
   "metadata": {},
   "source": [
    "### Summarize Data"
   ]
  },
  {
   "cell_type": "code",
   "execution_count": null,
   "id": "bb4a6668-dca2-40ce-b54d-fc374c09efbc",
   "metadata": {},
   "outputs": [],
   "source": [
    "mean_values <- players |> summarise(\n",
    "    mean_played_hours = mean(played_hours, na.rm = TRUE),\n",
    "    mean_age = mean(Age, na.rm = TRUE))\n",
    "\n",
    "mean_values"
   ]
  },
  {
   "cell_type": "markdown",
   "id": "9eab9613-f048-4409-a96f-10eaf46fef83",
   "metadata": {},
   "source": [
    "### Visualization"
   ]
  },
  {
   "cell_type": "code",
   "execution_count": null,
   "id": "2108ed60-abee-4239-81e3-daf3cbf351e9",
   "metadata": {},
   "outputs": [],
   "source": [
    "ggplot(players, aes(x = experience, y = played_hours, fill = experience)) +\n",
    "    geom_bar(stat = \"identity\") +\n",
    "    labs(title = \"Figure 1: Minecraft Played Hours Based on Experience Level\", x = \"Experience Level\", y = \"Minecraft Played Time (hours)\")\n"
   ]
  },
  {
   "cell_type": "code",
   "execution_count": null,
   "id": "9793599b-12b6-4fb5-a83b-58e391adae5b",
   "metadata": {},
   "outputs": [],
   "source": [
    "ggplot(players, aes(x = Age, y = played_hours)) +\n",
    "    geom_point() +\n",
    "    geom_smooth(method = \"lm\", se = FALSE, color = \"blue\") +\n",
    "    labs(title = \"Figure 2: Relationship Between Age and Minecraft Played Hours\", x = \"Age (years)\", y = \"Minecraft Played Time (hours)\")\n"
   ]
  },
  {
   "cell_type": "code",
   "execution_count": null,
   "id": "4ba8da3e-47c7-43ad-b04c-170fe2d587b3",
   "metadata": {},
   "outputs": [],
   "source": []
  },
  {
   "cell_type": "markdown",
   "id": "a10f6f3f-8d2c-4c10-8e99-676475346c19",
   "metadata": {},
   "source": [
    "# Discussion"
   ]
  },
  {
   "cell_type": "code",
   "execution_count": null,
   "id": "0b845907-3c1e-4d21-b92d-318132fbee11",
   "metadata": {},
   "outputs": [],
   "source": [
    "ss"
   ]
  },
  {
   "cell_type": "code",
   "execution_count": null,
   "id": "37949ac1-704a-417b-bdaf-b4d0a282a726",
   "metadata": {},
   "outputs": [],
   "source": []
  }
 ],
 "metadata": {
  "kernelspec": {
   "display_name": "R",
   "language": "R",
   "name": "ir"
  },
  "language_info": {
   "codemirror_mode": "r",
   "file_extension": ".r",
   "mimetype": "text/x-r-source",
   "name": "R",
   "pygments_lexer": "r",
   "version": "4.3.3"
  }
 },
 "nbformat": 4,
 "nbformat_minor": 5
}
