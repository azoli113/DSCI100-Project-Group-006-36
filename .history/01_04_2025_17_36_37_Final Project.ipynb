{
 "cells": [
  {
   "cell_type": "markdown",
   "id": "22ceb9bc-34a7-4e75-a2c1-8262510ac38f",
   "metadata": {},
   "source": [
    "# DSCI 100: Final Project Title\n"
   ]
  },
  {
   "cell_type": "markdown",
   "id": "d6bb8f93-027b-43ee-82a3-a907ff09624a",
   "metadata": {},
   "source": [
    "By: Arshia, James, Lily, and Raina"
   ]
  },
  {
   "cell_type": "code",
   "execution_count": null,
   "id": "0c82e291-4b50-4650-8160-d21babbee29e",
   "metadata": {},
   "outputs": [],
   "source": [
    "library(repr)\n",
    "library(tidyverse)\n",
    "library(tidymodels)\n",
    "options(repr.matrix.max.rows = 10)"
   ]
  },
  {
   "cell_type": "markdown",
   "id": "76c18d01-077d-4557-b2b7-abe1fe8bd416",
   "metadata": {},
   "source": [
    "# Introduction"
   ]
  },
  {
   "cell_type": "markdown",
   "id": "e3d6be7e-f57d-4b69-9125-959852793bf9",
   "metadata": {},
   "source": [
    "## provide some relevant background information on the topic so that someone unfamiliar with it will be prepared to understand the rest of your report\n",
    "\n",
    "## clearly state the question you tried to answer with your project\n",
    "\n",
    "Can player experience level and age predict the number of hours all players spend playing minecraft?\n",
    "\n",
    "## identify and fully describe the dataset that was used to answer the question\n",
    "\n",
    "|Name|Type|Variables Definiton|\n",
    "|----|----|----|\n",
    "|Experience|factor|Players experience level|\n",
    "|Subscribe|logical|Subscription status|\n",
    "|hashedEmail|character|Encrypted players emails|\n",
    "|played_hours|numeric| Time played minecraft |\n",
    "|Name|character|Players name|\n",
    "|Gender|factor|Players gender|\n",
    "|Age| numeric|Players age|\n"
   ]
  },
  {
   "cell_type": "markdown",
   "id": "4626d96c-6c1f-4d5e-9cc4-78210d52ff9d",
   "metadata": {},
   "source": [
    "# 2.0 Methods and Results"
   ]
  },
  {
   "cell_type": "markdown",
   "id": "2df93dd5-2dff-496f-ae79-0c2205e0845c",
   "metadata": {},
   "source": [
    "### 2.1 Load in data"
   ]
  },
  {
   "cell_type": "code",
   "execution_count": null,
   "id": "bd36e6af-8fb9-483a-8812-ebba3b1ef72c",
   "metadata": {},
   "outputs": [],
   "source": [
    "players_data<-read_csv(\"https://raw.githubusercontent.com/lilypurdy/toy_ds_project/refs/heads/main/players%20(2).csv\")\n",
    "head(players_data, 5)"
   ]
  },
  {
   "cell_type": "markdown",
   "id": "723175b9-322a-45ff-aa6c-2f233a3da2e0",
   "metadata": {},
   "source": [
    "### 2.2 Wrangle and Clean Data"
   ]
  },
  {
   "cell_type": "code",
   "execution_count": null,
   "id": "90870762-3a26-47ac-8d39-cef2166a0246",
   "metadata": {},
   "outputs": [],
   "source": [
    "players <- players_data |> select(-hashedEmail, -subscribe, -name, -gender)\n",
    "head(players, 5)"
   ]
  },
  {
   "cell_type": "markdown",
   "id": "57e53227-05ca-4d74-83ab-13f96d8c4750",
   "metadata": {},
   "source": [
    "### 2.3 Summarize Data"
   ]
  },
  {
   "cell_type": "code",
   "execution_count": null,
   "id": "bb4a6668-dca2-40ce-b54d-fc374c09efbc",
   "metadata": {},
   "outputs": [],
   "source": [
    "mean_values <- players |> summarise(\n",
    "    mean_played_hours = mean(played_hours, na.rm = TRUE),\n",
    "    mean_age = mean(Age, na.rm = TRUE))\n",
    "\n",
    "mean_values"
   ]
  },
  {
   "cell_type": "markdown",
   "id": "9eab9613-f048-4409-a96f-10eaf46fef83",
   "metadata": {},
   "source": [
    "### 2.4 Visualization"
   ]
  },
  {
   "cell_type": "code",
   "execution_count": null,
   "id": "ee6f83f7-d9f1-4424-8a4c-1eeeabe426ee",
   "metadata": {},
   "outputs": [],
   "source": [
    "ggplot(players_data, aes(x = gender, y = played_hours, fill = gender)) +\n",
    "    geom_bar(stat = \"identity\") +\n",
    "    labs(title = \"Figure 1: Minecraft Played Hours Based on Gender\", x = \"Gender\", y = \"Minecraft Played Time (hours)\")\n"
   ]
  },
  {
   "cell_type": "code",
   "execution_count": null,
   "id": "2108ed60-abee-4239-81e3-daf3cbf351e9",
   "metadata": {},
   "outputs": [],
   "source": [
    "ggplot(players, aes(x = experience, y = played_hours, fill = experience)) +\n",
    "    geom_bar(stat = \"identity\") +\n",
    "    labs(title = \"Figure 1: Minecraft Played Hours Based on Experience Level\", x = \"Experience Level\", y = \"Minecraft Played Time (hours)\")\n"
   ]
  },
  {
   "cell_type": "code",
   "execution_count": null,
   "id": "9793599b-12b6-4fb5-a83b-58e391adae5b",
   "metadata": {},
   "outputs": [],
   "source": [
    "ggplot(players, aes(x = Age, y = played_hours)) +\n",
    "    geom_point() +\n",
    "    geom_smooth(method = \"lm\", se = FALSE, color = \"blue\") +\n",
    "    labs(title = \"Figure 2: Relationship Between Age and Minecraft Played Hours\", x = \"Age (years)\", y = \"Minecraft Played Time (hours)\") +\n",
    "    scale_y_log10(labels = label_comma())\n"
   ]
  },
  {
   "cell_type": "markdown",
   "id": "de2619ba-6e2d-426a-8797-bb0907127dfb",
   "metadata": {},
   "source": [
    "### 2.5 Performing Data Analysis:"
   ]
  },
  {
   "cell_type": "code",
   "execution_count": null,
   "id": "5db2e9a5-1949-4a4e-8c30-0cda8ad19a1f",
   "metadata": {},
   "outputs": [],
   "source": [
    "#First we will  "
   ]
  },
  {
   "cell_type": "markdown",
   "id": "a10f6f3f-8d2c-4c10-8e99-676475346c19",
   "metadata": {},
   "source": [
    "# Discussion"
   ]
  },
  {
   "cell_type": "code",
   "execution_count": null,
   "id": "0b845907-3c1e-4d21-b92d-318132fbee11",
   "metadata": {},
   "outputs": [],
   "source": [
    "#Recipe\n",
    "trestbps_recipe_training <- recipe(age ~ trestbps, data = training_data)\n",
    "\n",
    "#Specification\n",
    "trestbps_spec_training <- linear_reg() |>\n",
    "  set_engine(\"lm\") |>\n",
    "  set_mode(\"regression\")\n",
    "\n",
    "#Workflow\n",
    "trestbps_model_training <- workflow() |>\n",
    "  add_recipe(trestbps_recipe_training) |>\n",
    "  add_model(trestbps_spec_training) |>\n",
    "  fit(data = training_data)\n",
    "\n",
    "trestbps_preds_training <- trestbps_model_training |>\n",
    "  predict(training_data)|>\n",
    "  bind_cols(training_data)\n",
    "\n",
    "#Visualization\n",
    "trestbps_predictions_training <- trestbps_preds_training |>\n",
    "     ggplot(aes(x = trestbps, y = age)) +\n",
    "        geom_point(alpha = 0.4) +\n",
    "        geom_line(\n",
    "             mapping = aes(x = trestbps, y = .pred), \n",
    "             color = \"black\") +\n",
    "         xlab(\"Resting blood pressure (trestbps)\") +\n",
    "         ylab(\"Age - Level of Heart Disease\") +\n",
    "         theme(text = element_text(size = 20))\n",
    "\n",
    "trestbps_predictions_training\n"
   ]
  },
  {
   "cell_type": "code",
   "execution_count": null,
   "id": "37949ac1-704a-417b-bdaf-b4d0a282a726",
   "metadata": {},
   "outputs": [],
   "source": []
  }
 ],
 "metadata": {
  "kernelspec": {
   "display_name": "R",
   "language": "R",
   "name": "ir"
  },
  "language_info": {
   "codemirror_mode": "r",
   "file_extension": ".r",
   "mimetype": "text/x-r-source",
   "name": "R",
   "pygments_lexer": "r",
   "version": "4.3.3"
  }
 },
 "nbformat": 4,
 "nbformat_minor": 5
}
