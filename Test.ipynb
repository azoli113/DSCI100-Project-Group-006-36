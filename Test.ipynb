{
 "cells": [
  {
   "cell_type": "markdown",
   "id": "22ceb9bc-34a7-4e75-a2c1-8262510ac38f",
   "metadata": {},
   "source": [
    "There seems to be an issue when pushing this to Github"
   ]
  },
  {
   "cell_type": "code",
   "execution_count": null,
   "id": "2d0690b0-105f-4758-88f1-73d7b1a01ef1",
   "metadata": {},
   "outputs": [],
   "source": []
  }
 ],
 "metadata": {
  "kernelspec": {
   "display_name": "R",
   "language": "R",
   "name": "ir"
  },
  "language_info": {
   "codemirror_mode": "r",
   "file_extension": ".r",
   "mimetype": "text/x-r-source",
   "name": "R",
   "pygments_lexer": "r",
   "version": "4.3.3"
  }
 },
 "nbformat": 4,
 "nbformat_minor": 5
}
