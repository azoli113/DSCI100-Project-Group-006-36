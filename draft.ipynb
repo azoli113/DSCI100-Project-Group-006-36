{
 "cells": [
  {
   "cell_type": "code",
   "execution_count": 275,
   "id": "a6cf036c-f7ee-465f-8cda-90aa65f98eb5",
   "metadata": {},
   "outputs": [],
   "source": [
    "library(repr)\n",
    "library(tidyverse)\n",
    "\n",
    "library(tidymodels)\n",
    "library(gridExtra)\n",
    "set.seed(1)\n",
    "options(repr.matrix.max.rows = 10)"
   ]
  },
  {
   "cell_type": "code",
   "execution_count": 276,
   "id": "f899733e-4ba7-4db0-b96d-ee2877d174df",
   "metadata": {},
   "outputs": [
    {
     "name": "stderr",
     "output_type": "stream",
     "text": [
      "\u001b[1mRows: \u001b[22m\u001b[34m196\u001b[39m \u001b[1mColumns: \u001b[22m\u001b[34m7\u001b[39m\n",
      "\u001b[36m──\u001b[39m \u001b[1mColumn specification\u001b[22m \u001b[36m────────────────────────────────────────────────────────\u001b[39m\n",
      "\u001b[1mDelimiter:\u001b[22m \",\"\n",
      "\u001b[31mchr\u001b[39m (4): experience, hashedEmail, name, gender\n",
      "\u001b[32mdbl\u001b[39m (2): played_hours, Age\n",
      "\u001b[33mlgl\u001b[39m (1): subscribe\n",
      "\n",
      "\u001b[36mℹ\u001b[39m Use `spec()` to retrieve the full column specification for this data.\n",
      "\u001b[36mℹ\u001b[39m Specify the column types or set `show_col_types = FALSE` to quiet this message.\n"
     ]
    },
    {
     "data": {
      "text/html": [
       "<table class=\"dataframe\">\n",
       "<caption>A tibble: 5 × 7</caption>\n",
       "<thead>\n",
       "\t<tr><th scope=col>experience</th><th scope=col>subscribe</th><th scope=col>hashedEmail</th><th scope=col>played_hours</th><th scope=col>name</th><th scope=col>gender</th><th scope=col>Age</th></tr>\n",
       "\t<tr><th scope=col>&lt;chr&gt;</th><th scope=col>&lt;lgl&gt;</th><th scope=col>&lt;chr&gt;</th><th scope=col>&lt;dbl&gt;</th><th scope=col>&lt;chr&gt;</th><th scope=col>&lt;chr&gt;</th><th scope=col>&lt;dbl&gt;</th></tr>\n",
       "</thead>\n",
       "<tbody>\n",
       "\t<tr><td>Pro    </td><td> TRUE</td><td>f6daba428a5e19a3d47574858c13550499be23603422e6a0ee9728f8b53e192d</td><td>30.3</td><td>Morgan   </td><td>Male  </td><td> 9</td></tr>\n",
       "\t<tr><td>Veteran</td><td> TRUE</td><td>f3c813577c458ba0dfef80996f8f32c93b6e8af1fa939732842f2312358a88e9</td><td> 3.8</td><td>Christian</td><td>Male  </td><td>17</td></tr>\n",
       "\t<tr><td>Veteran</td><td>FALSE</td><td>b674dd7ee0d24096d1c019615ce4d12b20fcbff12d79d3c5a9d2118eb7ccbb28</td><td> 0.0</td><td>Blake    </td><td>Male  </td><td>17</td></tr>\n",
       "\t<tr><td>Amateur</td><td> TRUE</td><td>23fe711e0e3b77f1da7aa221ab1192afe21648d47d2b4fa7a5a659ff443a0eb5</td><td> 0.7</td><td>Flora    </td><td>Female</td><td>21</td></tr>\n",
       "\t<tr><td>Regular</td><td> TRUE</td><td>7dc01f10bf20671ecfccdac23812b1b415acd42c2147cb0af4d48fcce2420f3e</td><td> 0.1</td><td>Kylie    </td><td>Male  </td><td>21</td></tr>\n",
       "</tbody>\n",
       "</table>\n"
      ],
      "text/latex": [
       "A tibble: 5 × 7\n",
       "\\begin{tabular}{lllllll}\n",
       " experience & subscribe & hashedEmail & played\\_hours & name & gender & Age\\\\\n",
       " <chr> & <lgl> & <chr> & <dbl> & <chr> & <chr> & <dbl>\\\\\n",
       "\\hline\n",
       "\t Pro     &  TRUE & f6daba428a5e19a3d47574858c13550499be23603422e6a0ee9728f8b53e192d & 30.3 & Morgan    & Male   &  9\\\\\n",
       "\t Veteran &  TRUE & f3c813577c458ba0dfef80996f8f32c93b6e8af1fa939732842f2312358a88e9 &  3.8 & Christian & Male   & 17\\\\\n",
       "\t Veteran & FALSE & b674dd7ee0d24096d1c019615ce4d12b20fcbff12d79d3c5a9d2118eb7ccbb28 &  0.0 & Blake     & Male   & 17\\\\\n",
       "\t Amateur &  TRUE & 23fe711e0e3b77f1da7aa221ab1192afe21648d47d2b4fa7a5a659ff443a0eb5 &  0.7 & Flora     & Female & 21\\\\\n",
       "\t Regular &  TRUE & 7dc01f10bf20671ecfccdac23812b1b415acd42c2147cb0af4d48fcce2420f3e &  0.1 & Kylie     & Male   & 21\\\\\n",
       "\\end{tabular}\n"
      ],
      "text/markdown": [
       "\n",
       "A tibble: 5 × 7\n",
       "\n",
       "| experience &lt;chr&gt; | subscribe &lt;lgl&gt; | hashedEmail &lt;chr&gt; | played_hours &lt;dbl&gt; | name &lt;chr&gt; | gender &lt;chr&gt; | Age &lt;dbl&gt; |\n",
       "|---|---|---|---|---|---|---|\n",
       "| Pro     |  TRUE | f6daba428a5e19a3d47574858c13550499be23603422e6a0ee9728f8b53e192d | 30.3 | Morgan    | Male   |  9 |\n",
       "| Veteran |  TRUE | f3c813577c458ba0dfef80996f8f32c93b6e8af1fa939732842f2312358a88e9 |  3.8 | Christian | Male   | 17 |\n",
       "| Veteran | FALSE | b674dd7ee0d24096d1c019615ce4d12b20fcbff12d79d3c5a9d2118eb7ccbb28 |  0.0 | Blake     | Male   | 17 |\n",
       "| Amateur |  TRUE | 23fe711e0e3b77f1da7aa221ab1192afe21648d47d2b4fa7a5a659ff443a0eb5 |  0.7 | Flora     | Female | 21 |\n",
       "| Regular |  TRUE | 7dc01f10bf20671ecfccdac23812b1b415acd42c2147cb0af4d48fcce2420f3e |  0.1 | Kylie     | Male   | 21 |\n",
       "\n"
      ],
      "text/plain": [
       "  experience subscribe\n",
       "1 Pro         TRUE    \n",
       "2 Veteran     TRUE    \n",
       "3 Veteran    FALSE    \n",
       "4 Amateur     TRUE    \n",
       "5 Regular     TRUE    \n",
       "  hashedEmail                                                      played_hours\n",
       "1 f6daba428a5e19a3d47574858c13550499be23603422e6a0ee9728f8b53e192d 30.3        \n",
       "2 f3c813577c458ba0dfef80996f8f32c93b6e8af1fa939732842f2312358a88e9  3.8        \n",
       "3 b674dd7ee0d24096d1c019615ce4d12b20fcbff12d79d3c5a9d2118eb7ccbb28  0.0        \n",
       "4 23fe711e0e3b77f1da7aa221ab1192afe21648d47d2b4fa7a5a659ff443a0eb5  0.7        \n",
       "5 7dc01f10bf20671ecfccdac23812b1b415acd42c2147cb0af4d48fcce2420f3e  0.1        \n",
       "  name      gender Age\n",
       "1 Morgan    Male    9 \n",
       "2 Christian Male   17 \n",
       "3 Blake     Male   17 \n",
       "4 Flora     Female 21 \n",
       "5 Kylie     Male   21 "
      ]
     },
     "metadata": {},
     "output_type": "display_data"
    }
   ],
   "source": [
    "players_data<-read_csv(\"https://raw.githubusercontent.com/lilypurdy/toy_ds_project/refs/heads/main/players%20(2).csv\")\n",
    "head(players_data, 5)"
   ]
  },
  {
   "cell_type": "code",
   "execution_count": 277,
   "id": "3789dc49-b306-4227-a091-2a5133f034c3",
   "metadata": {},
   "outputs": [
    {
     "name": "stderr",
     "output_type": "stream",
     "text": [
      "Warning message:\n",
      "“\u001b[1m\u001b[22mOne or more parsing issues, call `problems()` on your data frame for details,\n",
      "e.g.:\n",
      "  dat <- vroom(...)\n",
      "  problems(dat)”\n"
     ]
    },
    {
     "data": {
      "text/html": [
       "<table class=\"dataframe\">\n",
       "<caption>A spec_tbl_df: 197 × 7</caption>\n",
       "<thead>\n",
       "\t<tr><th scope=col>experience</th><th scope=col>subscribed</th><th scope=col>hashed_email</th><th scope=col>hours_played</th><th scope=col>name</th><th scope=col>gender</th><th scope=col>age</th></tr>\n",
       "\t<tr><th scope=col>&lt;chr&gt;</th><th scope=col>&lt;lgl&gt;</th><th scope=col>&lt;chr&gt;</th><th scope=col>&lt;dbl&gt;</th><th scope=col>&lt;chr&gt;</th><th scope=col>&lt;chr&gt;</th><th scope=col>&lt;int&gt;</th></tr>\n",
       "</thead>\n",
       "<tbody>\n",
       "\t<tr><td>experience</td><td>   NA</td><td>hashedEmail                                                     </td><td>  NA</td><td>name     </td><td>gender</td><td>NA</td></tr>\n",
       "\t<tr><td>Pro       </td><td> TRUE</td><td>f6daba428a5e19a3d47574858c13550499be23603422e6a0ee9728f8b53e192d</td><td>30.3</td><td>Morgan   </td><td>Male  </td><td> 9</td></tr>\n",
       "\t<tr><td>Veteran   </td><td> TRUE</td><td>f3c813577c458ba0dfef80996f8f32c93b6e8af1fa939732842f2312358a88e9</td><td> 3.8</td><td>Christian</td><td>Male  </td><td>17</td></tr>\n",
       "\t<tr><td>Veteran   </td><td>FALSE</td><td>b674dd7ee0d24096d1c019615ce4d12b20fcbff12d79d3c5a9d2118eb7ccbb28</td><td> 0.0</td><td>Blake    </td><td>Male  </td><td>17</td></tr>\n",
       "\t<tr><td>Amateur   </td><td> TRUE</td><td>23fe711e0e3b77f1da7aa221ab1192afe21648d47d2b4fa7a5a659ff443a0eb5</td><td> 0.7</td><td>Flora    </td><td>Female</td><td>21</td></tr>\n",
       "\t<tr><td>⋮</td><td>⋮</td><td>⋮</td><td>⋮</td><td>⋮</td><td>⋮</td><td>⋮</td></tr>\n",
       "\t<tr><td>Amateur</td><td> TRUE</td><td>b6e9e593b9ec51c5e335457341c324c34a2239531e1890b93ca52ac1dc76b08f</td><td>0.0</td><td>Bailey</td><td>Female           </td><td>17</td></tr>\n",
       "\t<tr><td>Veteran</td><td>FALSE</td><td>71453e425f07d10da4fa2b349c83e73ccdf0fb3312f778b35c5802c3292c87bd</td><td>0.3</td><td>Pascal</td><td>Male             </td><td>22</td></tr>\n",
       "\t<tr><td>Amateur</td><td>FALSE</td><td>d572f391d452b76ea2d7e5e53a3d38bfd7499c7399db299bd4fedb06a46ad5bb</td><td>0.0</td><td>Dylan </td><td>Prefer not to say</td><td>17</td></tr>\n",
       "\t<tr><td>Amateur</td><td>FALSE</td><td>f19e136ddde68f365afc860c725ccff54307dedd13968e896a9f890c40aea436</td><td>2.3</td><td>Harlow</td><td>Male             </td><td>17</td></tr>\n",
       "\t<tr><td>Pro    </td><td> TRUE</td><td>d9473710057f7d42f36570f0be83817a4eea614029ff90cf50d8889cdd729d11</td><td>0.2</td><td>Ahmed </td><td>Other            </td><td>NA</td></tr>\n",
       "</tbody>\n",
       "</table>\n"
      ],
      "text/latex": [
       "A spec\\_tbl\\_df: 197 × 7\n",
       "\\begin{tabular}{lllllll}\n",
       " experience & subscribed & hashed\\_email & hours\\_played & name & gender & age\\\\\n",
       " <chr> & <lgl> & <chr> & <dbl> & <chr> & <chr> & <int>\\\\\n",
       "\\hline\n",
       "\t experience &    NA & hashedEmail                                                      &   NA & name      & gender & NA\\\\\n",
       "\t Pro        &  TRUE & f6daba428a5e19a3d47574858c13550499be23603422e6a0ee9728f8b53e192d & 30.3 & Morgan    & Male   &  9\\\\\n",
       "\t Veteran    &  TRUE & f3c813577c458ba0dfef80996f8f32c93b6e8af1fa939732842f2312358a88e9 &  3.8 & Christian & Male   & 17\\\\\n",
       "\t Veteran    & FALSE & b674dd7ee0d24096d1c019615ce4d12b20fcbff12d79d3c5a9d2118eb7ccbb28 &  0.0 & Blake     & Male   & 17\\\\\n",
       "\t Amateur    &  TRUE & 23fe711e0e3b77f1da7aa221ab1192afe21648d47d2b4fa7a5a659ff443a0eb5 &  0.7 & Flora     & Female & 21\\\\\n",
       "\t ⋮ & ⋮ & ⋮ & ⋮ & ⋮ & ⋮ & ⋮\\\\\n",
       "\t Amateur &  TRUE & b6e9e593b9ec51c5e335457341c324c34a2239531e1890b93ca52ac1dc76b08f & 0.0 & Bailey & Female            & 17\\\\\n",
       "\t Veteran & FALSE & 71453e425f07d10da4fa2b349c83e73ccdf0fb3312f778b35c5802c3292c87bd & 0.3 & Pascal & Male              & 22\\\\\n",
       "\t Amateur & FALSE & d572f391d452b76ea2d7e5e53a3d38bfd7499c7399db299bd4fedb06a46ad5bb & 0.0 & Dylan  & Prefer not to say & 17\\\\\n",
       "\t Amateur & FALSE & f19e136ddde68f365afc860c725ccff54307dedd13968e896a9f890c40aea436 & 2.3 & Harlow & Male              & 17\\\\\n",
       "\t Pro     &  TRUE & d9473710057f7d42f36570f0be83817a4eea614029ff90cf50d8889cdd729d11 & 0.2 & Ahmed  & Other             & NA\\\\\n",
       "\\end{tabular}\n"
      ],
      "text/markdown": [
       "\n",
       "A spec_tbl_df: 197 × 7\n",
       "\n",
       "| experience &lt;chr&gt; | subscribed &lt;lgl&gt; | hashed_email &lt;chr&gt; | hours_played &lt;dbl&gt; | name &lt;chr&gt; | gender &lt;chr&gt; | age &lt;int&gt; |\n",
       "|---|---|---|---|---|---|---|\n",
       "| experience |    NA | hashedEmail                                                      |   NA | name      | gender | NA |\n",
       "| Pro        |  TRUE | f6daba428a5e19a3d47574858c13550499be23603422e6a0ee9728f8b53e192d | 30.3 | Morgan    | Male   |  9 |\n",
       "| Veteran    |  TRUE | f3c813577c458ba0dfef80996f8f32c93b6e8af1fa939732842f2312358a88e9 |  3.8 | Christian | Male   | 17 |\n",
       "| Veteran    | FALSE | b674dd7ee0d24096d1c019615ce4d12b20fcbff12d79d3c5a9d2118eb7ccbb28 |  0.0 | Blake     | Male   | 17 |\n",
       "| Amateur    |  TRUE | 23fe711e0e3b77f1da7aa221ab1192afe21648d47d2b4fa7a5a659ff443a0eb5 |  0.7 | Flora     | Female | 21 |\n",
       "| ⋮ | ⋮ | ⋮ | ⋮ | ⋮ | ⋮ | ⋮ |\n",
       "| Amateur |  TRUE | b6e9e593b9ec51c5e335457341c324c34a2239531e1890b93ca52ac1dc76b08f | 0.0 | Bailey | Female            | 17 |\n",
       "| Veteran | FALSE | 71453e425f07d10da4fa2b349c83e73ccdf0fb3312f778b35c5802c3292c87bd | 0.3 | Pascal | Male              | 22 |\n",
       "| Amateur | FALSE | d572f391d452b76ea2d7e5e53a3d38bfd7499c7399db299bd4fedb06a46ad5bb | 0.0 | Dylan  | Prefer not to say | 17 |\n",
       "| Amateur | FALSE | f19e136ddde68f365afc860c725ccff54307dedd13968e896a9f890c40aea436 | 2.3 | Harlow | Male              | 17 |\n",
       "| Pro     |  TRUE | d9473710057f7d42f36570f0be83817a4eea614029ff90cf50d8889cdd729d11 | 0.2 | Ahmed  | Other             | NA |\n",
       "\n"
      ],
      "text/plain": [
       "    experience subscribed\n",
       "1   experience    NA     \n",
       "2   Pro         TRUE     \n",
       "3   Veteran     TRUE     \n",
       "4   Veteran    FALSE     \n",
       "5   Amateur     TRUE     \n",
       "⋮   ⋮          ⋮         \n",
       "193 Amateur     TRUE     \n",
       "194 Veteran    FALSE     \n",
       "195 Amateur    FALSE     \n",
       "196 Amateur    FALSE     \n",
       "197 Pro         TRUE     \n",
       "    hashed_email                                                    \n",
       "1   hashedEmail                                                     \n",
       "2   f6daba428a5e19a3d47574858c13550499be23603422e6a0ee9728f8b53e192d\n",
       "3   f3c813577c458ba0dfef80996f8f32c93b6e8af1fa939732842f2312358a88e9\n",
       "4   b674dd7ee0d24096d1c019615ce4d12b20fcbff12d79d3c5a9d2118eb7ccbb28\n",
       "5   23fe711e0e3b77f1da7aa221ab1192afe21648d47d2b4fa7a5a659ff443a0eb5\n",
       "⋮   ⋮                                                               \n",
       "193 b6e9e593b9ec51c5e335457341c324c34a2239531e1890b93ca52ac1dc76b08f\n",
       "194 71453e425f07d10da4fa2b349c83e73ccdf0fb3312f778b35c5802c3292c87bd\n",
       "195 d572f391d452b76ea2d7e5e53a3d38bfd7499c7399db299bd4fedb06a46ad5bb\n",
       "196 f19e136ddde68f365afc860c725ccff54307dedd13968e896a9f890c40aea436\n",
       "197 d9473710057f7d42f36570f0be83817a4eea614029ff90cf50d8889cdd729d11\n",
       "    hours_played name      gender            age\n",
       "1     NA         name      gender            NA \n",
       "2   30.3         Morgan    Male               9 \n",
       "3    3.8         Christian Male              17 \n",
       "4    0.0         Blake     Male              17 \n",
       "5    0.7         Flora     Female            21 \n",
       "⋮   ⋮            ⋮         ⋮                 ⋮  \n",
       "193 0.0          Bailey    Female            17 \n",
       "194 0.3          Pascal    Male              22 \n",
       "195 0.0          Dylan     Prefer not to say 17 \n",
       "196 2.3          Harlow    Male              17 \n",
       "197 0.2          Ahmed     Other             NA "
      ]
     },
     "metadata": {},
     "output_type": "display_data"
    }
   ],
   "source": [
    "clean_players_data <- read_csv(\"https://raw.githubusercontent.com/Jamesnam1/toy_ds_project/refs/heads/main/players.csv\",\n",
    "    col_names = c(\"experience\", \"subscribed\", \"hashed_email\", \"hours_played\", \"name\", \"gender\", \"age\"),\n",
    "                col_types = list(\"c\", \"l\", \"c\", \"d\", \"c\", \"c\", \"i\"))\n",
    "clean_players_data"
   ]
  },
  {
   "cell_type": "code",
   "execution_count": 278,
   "id": "6c43686e-0c50-432a-955b-7bbfdee283e9",
   "metadata": {},
   "outputs": [
    {
     "data": {
      "text/html": [
       "<table class=\"dataframe\">\n",
       "<caption>A tibble: 194 × 3</caption>\n",
       "<thead>\n",
       "\t<tr><th scope=col>experience</th><th scope=col>hours_played</th><th scope=col>age</th></tr>\n",
       "\t<tr><th scope=col>&lt;dbl&gt;</th><th scope=col>&lt;dbl&gt;</th><th scope=col>&lt;int&gt;</th></tr>\n",
       "</thead>\n",
       "<tbody>\n",
       "\t<tr><td>5</td><td>30.3</td><td> 9</td></tr>\n",
       "\t<tr><td>4</td><td> 3.8</td><td>17</td></tr>\n",
       "\t<tr><td>4</td><td> 0.0</td><td>17</td></tr>\n",
       "\t<tr><td>3</td><td> 0.7</td><td>21</td></tr>\n",
       "\t<tr><td>2</td><td> 0.1</td><td>21</td></tr>\n",
       "\t<tr><td>⋮</td><td>⋮</td><td>⋮</td></tr>\n",
       "\t<tr><td>3</td><td>0.0</td><td>20</td></tr>\n",
       "\t<tr><td>3</td><td>0.0</td><td>17</td></tr>\n",
       "\t<tr><td>4</td><td>0.3</td><td>22</td></tr>\n",
       "\t<tr><td>3</td><td>0.0</td><td>17</td></tr>\n",
       "\t<tr><td>3</td><td>2.3</td><td>17</td></tr>\n",
       "</tbody>\n",
       "</table>\n"
      ],
      "text/latex": [
       "A tibble: 194 × 3\n",
       "\\begin{tabular}{lll}\n",
       " experience & hours\\_played & age\\\\\n",
       " <dbl> & <dbl> & <int>\\\\\n",
       "\\hline\n",
       "\t 5 & 30.3 &  9\\\\\n",
       "\t 4 &  3.8 & 17\\\\\n",
       "\t 4 &  0.0 & 17\\\\\n",
       "\t 3 &  0.7 & 21\\\\\n",
       "\t 2 &  0.1 & 21\\\\\n",
       "\t ⋮ & ⋮ & ⋮\\\\\n",
       "\t 3 & 0.0 & 20\\\\\n",
       "\t 3 & 0.0 & 17\\\\\n",
       "\t 4 & 0.3 & 22\\\\\n",
       "\t 3 & 0.0 & 17\\\\\n",
       "\t 3 & 2.3 & 17\\\\\n",
       "\\end{tabular}\n"
      ],
      "text/markdown": [
       "\n",
       "A tibble: 194 × 3\n",
       "\n",
       "| experience &lt;dbl&gt; | hours_played &lt;dbl&gt; | age &lt;int&gt; |\n",
       "|---|---|---|\n",
       "| 5 | 30.3 |  9 |\n",
       "| 4 |  3.8 | 17 |\n",
       "| 4 |  0.0 | 17 |\n",
       "| 3 |  0.7 | 21 |\n",
       "| 2 |  0.1 | 21 |\n",
       "| ⋮ | ⋮ | ⋮ |\n",
       "| 3 | 0.0 | 20 |\n",
       "| 3 | 0.0 | 17 |\n",
       "| 4 | 0.3 | 22 |\n",
       "| 3 | 0.0 | 17 |\n",
       "| 3 | 2.3 | 17 |\n",
       "\n"
      ],
      "text/plain": [
       "    experience hours_played age\n",
       "1   5          30.3          9 \n",
       "2   4           3.8         17 \n",
       "3   4           0.0         17 \n",
       "4   3           0.7         21 \n",
       "5   2           0.1         21 \n",
       "⋮   ⋮          ⋮            ⋮  \n",
       "190 3          0.0          20 \n",
       "191 3          0.0          17 \n",
       "192 4          0.3          22 \n",
       "193 3          0.0          17 \n",
       "194 3          2.3          17 "
      ]
     },
     "metadata": {},
     "output_type": "display_data"
    }
   ],
   "source": [
    "players <- clean_players_data |>\n",
    "  select(-hashed_email, -subscribed, -name, -gender) |>\n",
    "  filter(!is.na(age)) |>\n",
    "  mutate(\n",
    "    experience = case_when(\n",
    "      experience == \"Pro\" ~ 5,\n",
    "      experience == \"Veteran\" ~ 4,\n",
    "      experience == \"Amateur\" ~ 3,\n",
    "      experience == \"Regular\" ~ 2,\n",
    "      experience == \"Beginner\" ~ 1,\n",
    "      TRUE ~ NA_real_\n",
    "    )\n",
    "  )\n",
    "players"
   ]
  },
  {
   "cell_type": "code",
   "execution_count": 279,
   "id": "36e4b01b-6865-4619-bab3-2c4b85928eb5",
   "metadata": {},
   "outputs": [
    {
     "data": {
      "text/html": [
       "<table class=\"dataframe\">\n",
       "<caption>A tibble: 6 × 3</caption>\n",
       "<thead>\n",
       "\t<tr><th scope=col>experience</th><th scope=col>hours_played</th><th scope=col>age</th></tr>\n",
       "\t<tr><th scope=col>&lt;dbl&gt;</th><th scope=col>&lt;dbl&gt;</th><th scope=col>&lt;int&gt;</th></tr>\n",
       "</thead>\n",
       "<tbody>\n",
       "\t<tr><td>4</td><td>0.0</td><td>17</td></tr>\n",
       "\t<tr><td>2</td><td>0.1</td><td>21</td></tr>\n",
       "\t<tr><td>3</td><td>0.0</td><td>17</td></tr>\n",
       "\t<tr><td>3</td><td>0.0</td><td>21</td></tr>\n",
       "\t<tr><td>3</td><td>0.1</td><td>17</td></tr>\n",
       "\t<tr><td>5</td><td>0.0</td><td>17</td></tr>\n",
       "</tbody>\n",
       "</table>\n"
      ],
      "text/latex": [
       "A tibble: 6 × 3\n",
       "\\begin{tabular}{lll}\n",
       " experience & hours\\_played & age\\\\\n",
       " <dbl> & <dbl> & <int>\\\\\n",
       "\\hline\n",
       "\t 4 & 0.0 & 17\\\\\n",
       "\t 2 & 0.1 & 21\\\\\n",
       "\t 3 & 0.0 & 17\\\\\n",
       "\t 3 & 0.0 & 21\\\\\n",
       "\t 3 & 0.1 & 17\\\\\n",
       "\t 5 & 0.0 & 17\\\\\n",
       "\\end{tabular}\n"
      ],
      "text/markdown": [
       "\n",
       "A tibble: 6 × 3\n",
       "\n",
       "| experience &lt;dbl&gt; | hours_played &lt;dbl&gt; | age &lt;int&gt; |\n",
       "|---|---|---|\n",
       "| 4 | 0.0 | 17 |\n",
       "| 2 | 0.1 | 21 |\n",
       "| 3 | 0.0 | 17 |\n",
       "| 3 | 0.0 | 21 |\n",
       "| 3 | 0.1 | 17 |\n",
       "| 5 | 0.0 | 17 |\n",
       "\n"
      ],
      "text/plain": [
       "  experience hours_played age\n",
       "1 4          0.0          17 \n",
       "2 2          0.1          21 \n",
       "3 3          0.0          17 \n",
       "4 3          0.0          21 \n",
       "5 3          0.1          17 \n",
       "6 5          0.0          17 "
      ]
     },
     "metadata": {},
     "output_type": "display_data"
    }
   ],
   "source": [
    "set.seed(2)\n",
    "\n",
    "split_data <- initial_split(players, prop = 3/4, strata = hours_played)\n",
    "\n",
    "training_data <- training(split_data)\n",
    "testing_data <- testing(split_data)\n",
    "\n",
    "head(training_data)"
   ]
  },
  {
   "cell_type": "code",
   "execution_count": 280,
   "id": "0901a8e1-bca1-4aed-a54e-7f1c9b4df583",
   "metadata": {},
   "outputs": [
    {
     "data": {
      "text/plain": [
       "══ Workflow ════════════════════════════════════════════════════════════════════\n",
       "\u001b[3mPreprocessor:\u001b[23m Recipe\n",
       "\u001b[3mModel:\u001b[23m nearest_neighbor()\n",
       "\n",
       "── Preprocessor ────────────────────────────────────────────────────────────────\n",
       "2 Recipe Steps\n",
       "\n",
       "• step_scale()\n",
       "• step_center()\n",
       "\n",
       "── Model ───────────────────────────────────────────────────────────────────────\n",
       "K-Nearest Neighbor Model Specification (regression)\n",
       "\n",
       "Main Arguments:\n",
       "  neighbors = tune()\n",
       "  weight_func = rectangular\n",
       "\n",
       "Computational engine: kknn \n"
      ]
     },
     "metadata": {},
     "output_type": "display_data"
    }
   ],
   "source": [
    "set.seed(2)\n",
    "\n",
    "data_recipe <- recipe(hours_played ~ age + experience, data = training_data) |>\n",
    "  step_scale(all_predictors()) |>\n",
    "  step_center(all_predictors())\n",
    "\n",
    "data_spec <- nearest_neighbor(weight_func = \"rectangular\", neighbors = tune()) |>\n",
    "  set_engine(\"kknn\") |>\n",
    "  set_mode(\"regression\")\n",
    "\n",
    "data_vfold <- vfold_cv(training_data, v = 5, strata = hours_played)\n",
    "\n",
    "data_wkflw <- workflow() |>\n",
    "  add_recipe(data_recipe) |>\n",
    "  add_model(data_spec)\n",
    "\n",
    "data_wkflw"
   ]
  },
  {
   "cell_type": "code",
   "execution_count": null,
   "id": "0d65939e-eea8-4815-9528-f99ed5e78179",
   "metadata": {},
   "outputs": [],
   "source": [
    "set.seed(2)\n",
    "gridvals <- tibble(neighbors = seq(1, 100))\n",
    "data_multi <- data_wkflw |>\n",
    "  tune_grid(resamples = data_vfold, grid = gridvals) |>\n",
    "  collect_metrics() |>\n",
    "  filter(.metric == \"rmse\") |>\n",
    "  filter(mean == min(mean, na.rm = TRUE))\n",
    "\n",
    "data_k <- data_multi |> pull(neighbors)\n",
    "data_k"
   ]
  },
  {
   "cell_type": "code",
   "execution_count": null,
   "id": "fea0762e-4d02-43aa-bb5b-902b4c052099",
   "metadata": {},
   "outputs": [],
   "source": [
    "set.seed(2)\n",
    "final_spec <- nearest_neighbor(weight_func = \"rectangular\", neighbors = data_k) |>\n",
    "  set_engine(\"kknn\") |>\n",
    "  set_mode(\"regression\")\n",
    "\n",
    "knn_mult_fit <- workflow() |>\n",
    "  add_recipe(data_recipe) |>\n",
    "  add_model(final_spec) |>\n",
    "  fit(data = training_data)\n",
    "\n",
    "# Step 8: Evaluate on testing data\n",
    "knn_mult_preds <- knn_mult_fit |>\n",
    "  predict(testing_data) |>\n",
    "  bind_cols(testing_data)\n",
    "\n",
    "knn_mult_mets <- metrics(knn_mult_preds, truth = hours_played, estimate = .pred) |>\n",
    "  filter(.metric == \"rmse\")\n",
    "\n",
    "print(knn_mult_mets)"
   ]
  },
  {
   "cell_type": "code",
   "execution_count": null,
   "id": "5da65ec0-fb42-4185-ab19-fe28e760dae2",
   "metadata": {},
   "outputs": [],
   "source": [
    "set.seed(2)\n",
    "\n",
    "age_prediction_grid <- expand_grid(\n",
    "  age = seq(\n",
    "    from = players |> pull(age) |> min(na.rm = TRUE),\n",
    "    to = players |> pull(age) |> max(na.rm = TRUE),\n",
    "    by = 10\n",
    "  ),\n",
    "  experience = 1:5)\n",
    "\n",
    "age_prediction_grid\n"
   ]
  },
  {
   "cell_type": "code",
   "execution_count": null,
   "id": "74f6413e-d6c6-465d-b439-1e0a30323652",
   "metadata": {},
   "outputs": [],
   "source": [
    "\n",
    "data_preds <- knn_mult_fit  |>\n",
    "  predict(age_prediction_grid) |>\n",
    "  bind_cols(age_prediction_grid)\n",
    "\n",
    "plot_final <- ggplot(players, aes(x = age, y = hours_played)) +\n",
    "  geom_point(alpha = 0.4) +\n",
    "  geom_line(data = data_preds, aes(x = age, y = .pred), color = \"steelblue\", linewidth = 1) +\n",
    "  xlab(\"Age of Player (years)\") +\n",
    "  ylab(\"Hours Played\") +\n",
    "  ggtitle(paste0(\"K = \", data_k)) +\n",
    "  scale_y_log10(labels = comma) +\n",
    "  scale_x_log10(labels = comma) +\n",
    "  theme_minimal(base_size = 12)\n",
    "\n",
    "plot_final"
   ]
  },
  {
   "cell_type": "code",
   "execution_count": null,
   "id": "d684a102-600c-44f4-b5ba-5be30a3352ba",
   "metadata": {},
   "outputs": [],
   "source": []
  },
  {
   "cell_type": "code",
   "execution_count": null,
   "id": "e7c0f74e-5d16-43a8-b5bf-13f3e750b2b6",
   "metadata": {},
   "outputs": [],
   "source": []
  },
  {
   "cell_type": "code",
   "execution_count": null,
   "id": "d44231bd-af8c-493a-8b57-ec4c8ae40c6a",
   "metadata": {},
   "outputs": [],
   "source": []
  },
  {
   "cell_type": "code",
   "execution_count": null,
   "id": "bd279829-158c-41fb-93b6-1f5b09a14292",
   "metadata": {},
   "outputs": [],
   "source": []
  }
 ],
 "metadata": {
  "kernelspec": {
   "display_name": "R",
   "language": "R",
   "name": "ir"
  },
  "language_info": {
   "codemirror_mode": "r",
   "file_extension": ".r",
   "mimetype": "text/x-r-source",
   "name": "R",
   "pygments_lexer": "r",
   "version": "4.3.3"
  }
 },
 "nbformat": 4,
 "nbformat_minor": 5
}
